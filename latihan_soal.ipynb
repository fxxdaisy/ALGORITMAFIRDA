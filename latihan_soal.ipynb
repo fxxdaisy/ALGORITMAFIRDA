{
  "nbformat": 4,
  "nbformat_minor": 0,
  "metadata": {
    "colab": {
      "provenance": [],
      "include_colab_link": true
    },
    "kernelspec": {
      "name": "python3",
      "display_name": "Python 3"
    },
    "language_info": {
      "name": "python"
    }
  },
  "cells": [
    {
      "cell_type": "markdown",
      "metadata": {
        "id": "view-in-github",
        "colab_type": "text"
      },
      "source": [
        "<a href=\"https://colab.research.google.com/github/fxxdaisy/ALGORITMAFIRDA/blob/main/latihan_soal.ipynb\" target=\"_parent\"><img src=\"https://colab.research.google.com/assets/colab-badge.svg\" alt=\"Open In Colab\"/></a>"
      ]
    },
    {
      "cell_type": "code",
      "execution_count": null,
      "metadata": {
        "id": "VVz4HxH-D8Ow"
      },
      "outputs": [],
      "source": [
        "#masukkan Nama anda\n",
        "nama =input(\"masukkan nama anda: \")\n",
        "#Mencetak Pesan\n",
        "print (f\"Halo {nama}! Selamat Belajar Python!\")"
      ]
    },
    {
      "cell_type": "code",
      "source": [
        "p = int(input(\"masukkan panjang: \"))\n",
        "l = int(input(\"masukkan lebar: \"))\n",
        "luas = (p*l)\n",
        "print(luas)"
      ],
      "metadata": {
        "colab": {
          "base_uri": "https://localhost:8080/"
        },
        "id": "SW7JadmAGLf8",
        "outputId": "e4302a30-b87a-457c-f8dc-34d8f41e8457"
      },
      "execution_count": null,
      "outputs": [
        {
          "output_type": "stream",
          "name": "stdout",
          "text": [
            "masukkan panjang: 5\n",
            "masukkan lebar: 10\n",
            "50\n"
          ]
        }
      ]
    },
    {
      "cell_type": "code",
      "source": [
        "angka =int(input(\"masukkan angka: \"))\n",
        "if angka % 2 == 0:\n",
        "    print(\"angka genap\")\n",
        "else:\n",
        "    print(\"angka ganjil\")"
      ],
      "metadata": {
        "colab": {
          "base_uri": "https://localhost:8080/"
        },
        "id": "KgTxz7VJH83M",
        "outputId": "35ffc944-9772-4be1-d8a4-828fccd2258a"
      },
      "execution_count": null,
      "outputs": [
        {
          "output_type": "stream",
          "name": "stdout",
          "text": [
            "masukkan angka: 3\n",
            "angka ganjil\n"
          ]
        }
      ]
    },
    {
      "cell_type": "code",
      "source": [
        "#Deret Bilangan 1 sampai 20\n",
        "print(\"deret bilangan 1 sampai 20\")\n",
        "for i in range(1,21):\n",
        "      print(i, end = \" \")"
      ],
      "metadata": {
        "colab": {
          "base_uri": "https://localhost:8080/"
        },
        "id": "AuBpyrmJIXdd",
        "outputId": "fdc090c9-a4df-4234-88e4-751bfc249ac4"
      },
      "execution_count": null,
      "outputs": [
        {
          "output_type": "stream",
          "name": "stdout",
          "text": [
            "deret bilangan 1 sampai 20\n",
            "1 2 3 4 5 6 7 8 9 10 11 12 13 14 15 16 17 18 19 20 "
          ]
        }
      ]
    },
    {
      "cell_type": "code",
      "source": [
        "a = int(input(\"masukkan angka: \"))\n",
        "b = int(input(\"masukkan angka: \"))\n",
        "for i in range(a,b+1):\n",
        "    jumlah = sum(range(a,b+1))\n",
        "print(f\"jumlah dari(a) sampai (b) adalah {jumlah}\")\n",
        "for i in range(a,b+1):\n",
        "    print(i, end = \" \")"
      ],
      "metadata": {
        "colab": {
          "base_uri": "https://localhost:8080/"
        },
        "id": "4rqtNYYqLqIr",
        "outputId": "2923550a-0e05-437e-c93a-7ccd81157b65"
      },
      "execution_count": null,
      "outputs": [
        {
          "output_type": "stream",
          "name": "stdout",
          "text": [
            "masukkan angka: 3\n",
            "masukkan angka: 7\n",
            "jumlah dari(a) sampai (b) adalah 25\n",
            "3 4 5 6 7 "
          ]
        }
      ]
    },
    {
      "cell_type": "code",
      "source": [
        "a=int(input(\"masukkan angka: \"))\n",
        "b=int(input(\"masukkan angka: \"))\n",
        "\n",
        "print(f\"bilangan genap dalam rentang {a} dan {b}\")\n",
        "for i in range(a,b+1):\n",
        "    if i % 2 == 0:\n",
        "      print(i, end = \" \")"
      ],
      "metadata": {
        "colab": {
          "base_uri": "https://localhost:8080/"
        },
        "id": "bs89mFMuSeTc",
        "outputId": "9483a63c-acf7-49a2-f5a8-cd6aa171a037"
      },
      "execution_count": null,
      "outputs": [
        {
          "output_type": "stream",
          "name": "stdout",
          "text": [
            "masukkan angka: 3\n",
            "masukkan angka: 10\n",
            "bilangan genap dalam rentang 3 dan 10\n",
            "4 6 8 10 "
          ]
        }
      ]
    },
    {
      "cell_type": "code",
      "source": [
        "A = [5, 3, 8, 1]\n",
        "array_terbalik = 0 * len (A)\n",
        "for i in range(len(A)):\n",
        "    array_terbalik[i] = A[len(A) - i - 1]\n",
        "print(array_terbalik)"
      ],
      "metadata": {
        "id": "JJdEX558UOv7"
      },
      "execution_count": null,
      "outputs": []
    },
    {
      "cell_type": "code",
      "source": [
        "bilangan = int(input(\"Masukkan sebuah bilangan bulat: \"))\n",
        "def is_prima(n):\n",
        "    if n <= 1:\n",
        "        return False  # Bilangan <= 1 bukan bilangan prima\n",
        "    for i in range(2, int(n**0.5) + 1):  # Cek dari 2 hingga akar kuadrat n\n",
        "        if n % i == 0:\n",
        "            return False  # Jika habis dibagi, bukan bilangan prima\n",
        "    return True\n",
        "\n",
        "if is_prima(bilangan):\n",
        "    print(f\"{bilangan} adalah bilangan prima.\")\n",
        "else:\n",
        "    print(f\"{bilangan} bukan bilangan prima.\")"
      ],
      "metadata": {
        "id": "HrGiTShHWz_T"
      },
      "execution_count": null,
      "outputs": []
    }
  ]
}