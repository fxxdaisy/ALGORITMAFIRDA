{
  "nbformat": 4,
  "nbformat_minor": 0,
  "metadata": {
    "colab": {
      "provenance": [],
      "mount_file_id": "12TBrV652yx5kmT2CGfbkIlwY3EKaZh45",
      "authorship_tag": "ABX9TyMkLwNmx3VHSWjYhc14moUm",
      "include_colab_link": true
    },
    "kernelspec": {
      "name": "python3",
      "display_name": "Python 3"
    },
    "language_info": {
      "name": "python"
    }
  },
  "cells": [
    {
      "cell_type": "markdown",
      "metadata": {
        "id": "view-in-github",
        "colab_type": "text"
      },
      "source": [
        "<a href=\"https://colab.research.google.com/github/fxxdaisy/ALGORITMAFIRDA/blob/main/P5_Senin_FIRDAGUSTIA_2C1240066.ipynb\" target=\"_parent\"><img src=\"https://colab.research.google.com/assets/colab-badge.svg\" alt=\"Open In Colab\"/></a>"
      ]
    },
    {
      "cell_type": "code",
      "execution_count": 1,
      "metadata": {
        "colab": {
          "base_uri": "https://localhost:8080/"
        },
        "id": "IsYiH3fb09Lm",
        "outputId": "89e90a55-0c7d-4eea-94f5-082b88024366"
      },
      "outputs": [
        {
          "output_type": "stream",
          "name": "stdout",
          "text": [
            "Hello World!\n"
          ]
        }
      ],
      "source": [
        "#Program HelloWorld\n",
        "#Mencetak Hello, World! ke layar\n",
        "#KAMUS\n",
        "#belum diperlukan\n",
        "#ALGORITMA\n",
        "print(\"Hello World!\")\n"
      ]
    },
    {
      "cell_type": "code",
      "source": [
        "#Program Test\n",
        "#Spesifikasi:Menghitung nilai A dan B\n",
        "#KAMUS\n",
        "#A:int\n",
        "#B:int\n",
        "#ALGORITMA\n",
        "A=int(input('Masukan nilai A')) #input\n",
        "B=int(input('Masukan nilai B'))\n",
        "A=A+B #proses\n",
        "print(A) #oputput\n",
        "print(B)"
      ],
      "metadata": {
        "colab": {
          "base_uri": "https://localhost:8080/"
        },
        "id": "1GJ33x422g86",
        "outputId": "fd64579c-f81b-4022-a3e0-aa43913497cd"
      },
      "execution_count": 4,
      "outputs": [
        {
          "output_type": "stream",
          "name": "stdout",
          "text": [
            "Masukan nilai A5\n",
            "Masukan nilai B3\n",
            "8\n",
            "3\n"
          ]
        }
      ]
    },
    {
      "cell_type": "code",
      "source": [
        "#Program Test\n",
        "#Spesifikasi:Menghitung harga kelereng yang harus dibayarkan anak itu\n",
        "#KAMUS\n",
        "#M:int\n",
        "#H:int\n",
        "#K:int\n",
        "#ALGORITMA\n",
        "M=int(input('Masukan nilai M:')) #input\n",
        "H=int(input('Masukan nilai H:'))\n",
        "K=int(input('Masukan nilai K:'))\n",
        "HK_M=10\n",
        "HK_H=15\n",
        "HK_K=20\n",
        "total_harga=(M*HK_M)+(H*HK_H)+(K*HK_K)\n",
        "\n",
        "print(\"yang harus dibayar\", total_harga, \"rupiah\")\n"
      ],
      "metadata": {
        "colab": {
          "base_uri": "https://localhost:8080/"
        },
        "id": "MS-33DSQ9xga",
        "outputId": "49a367ba-6494-4b98-8f62-3ffbb96e9baf"
      },
      "execution_count": 6,
      "outputs": [
        {
          "output_type": "stream",
          "name": "stdout",
          "text": [
            "Masukan nilai M:10\n",
            "Masukan nilai H:5\n",
            "Masukan nilai K:4\n",
            "yang harus dibayar 255 rupiah\n"
          ]
        }
      ]
    },
    {
      "cell_type": "code",
      "source": [
        "print(\"Hello World!\")"
      ],
      "metadata": {
        "id": "gMm0GuYPF2v0"
      },
      "execution_count": null,
      "outputs": []
    },
    {
      "cell_type": "code",
      "source": [],
      "metadata": {
        "id": "Vv020mqrCrAd"
      },
      "execution_count": null,
      "outputs": []
    }
  ]
}