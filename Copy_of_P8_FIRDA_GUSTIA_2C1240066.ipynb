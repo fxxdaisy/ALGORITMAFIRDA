{
  "nbformat": 4,
  "nbformat_minor": 0,
  "metadata": {
    "colab": {
      "provenance": [],
      "include_colab_link": true
    },
    "kernelspec": {
      "name": "python3",
      "display_name": "Python 3"
    },
    "language_info": {
      "name": "python"
    }
  },
  "cells": [
    {
      "cell_type": "markdown",
      "metadata": {
        "id": "view-in-github",
        "colab_type": "text"
      },
      "source": [
        "<a href=\"https://colab.research.google.com/github/fxxdaisy/ALGORITMAFIRDA/blob/main/Copy_of_P8_FIRDA_GUSTIA_2C1240066.ipynb\" target=\"_parent\"><img src=\"https://colab.research.google.com/assets/colab-badge.svg\" alt=\"Open In Colab\"/></a>"
      ]
    },
    {
      "cell_type": "markdown",
      "source": [
        "**FUNDAMENTAL ARRAY**"
      ],
      "metadata": {
        "id": "wfgZxt5q_TzV"
      }
    },
    {
      "cell_type": "code",
      "execution_count": null,
      "metadata": {
        "id": "9TB1ZwTr_DYz",
        "colab": {
          "base_uri": "https://localhost:8080/"
        },
        "outputId": "dfdedfda-50f1-4512-97f5-9e3fbce0b033"
      },
      "outputs": [
        {
          "output_type": "execute_result",
          "data": {
            "text/plain": [
              "[10, 20, 30, 40]"
            ]
          },
          "metadata": {},
          "execution_count": 5
        }
      ],
      "source": [
        "arr = [10, 20, 30, 40]\n",
        "arr"
      ]
    },
    {
      "cell_type": "code",
      "source": [
        "list_numbers = [1, 2, 3, 4, 5]\n",
        "arr"
      ],
      "metadata": {
        "id": "Qye2YU0__OFZ",
        "colab": {
          "base_uri": "https://localhost:8080/"
        },
        "outputId": "018baab0-3405-4011-ee39-59d3323fda59"
      },
      "execution_count": null,
      "outputs": [
        {
          "output_type": "execute_result",
          "data": {
            "text/plain": [
              "[10, 20, 30, 40]"
            ]
          },
          "metadata": {},
          "execution_count": 6
        }
      ]
    },
    {
      "cell_type": "code",
      "source": [
        "list_numbers[0] = 100  # Mengubah elemen pertama menjadi 100\n",
        "list_numbers"
      ],
      "metadata": {
        "id": "Fl3348wK_Rjh",
        "colab": {
          "base_uri": "https://localhost:8080/"
        },
        "outputId": "31c578d2-2985-4ff0-a899-d00a16c91e77"
      },
      "execution_count": null,
      "outputs": [
        {
          "output_type": "execute_result",
          "data": {
            "text/plain": [
              "[100, 2, 3, 4, 5]"
            ]
          },
          "metadata": {},
          "execution_count": 7
        }
      ]
    },
    {
      "cell_type": "markdown",
      "source": [
        "**MENDEKLARASIKAN ARRAY**"
      ],
      "metadata": {
        "id": "vu07k-Tj_cp9"
      }
    },
    {
      "cell_type": "code",
      "source": [
        "arr = [1, 2, 3, 4, 5]\n",
        "arr"
      ],
      "metadata": {
        "id": "Z7JTYURvCO49",
        "colab": {
          "base_uri": "https://localhost:8080/"
        },
        "outputId": "88f9ea29-074d-4311-ee5f-96f36191a011"
      },
      "execution_count": null,
      "outputs": [
        {
          "output_type": "execute_result",
          "data": {
            "text/plain": [
              "[1, 2, 3, 4, 5]"
            ]
          },
          "metadata": {},
          "execution_count": 8
        }
      ]
    },
    {
      "cell_type": "code",
      "source": [
        "data = [1, 2, 3, 'hello', 5.5]  # array dengan elemen tipe berbeda\n",
        "arr"
      ],
      "metadata": {
        "id": "OKBRVSaA_f6u",
        "colab": {
          "base_uri": "https://localhost:8080/"
        },
        "outputId": "900f61bb-cdfa-415c-aae2-e61b1ba0605a"
      },
      "execution_count": null,
      "outputs": [
        {
          "output_type": "execute_result",
          "data": {
            "text/plain": [
              "[1, 2, 3, 4, 5]"
            ]
          },
          "metadata": {},
          "execution_count": 10
        }
      ]
    },
    {
      "cell_type": "code",
      "source": [
        "arr = [0] * 5  # Membuat array dengan 5 elemen, semua berisi 0\n",
        "arr"
      ],
      "metadata": {
        "id": "2b5ZTBRJ_isp",
        "colab": {
          "base_uri": "https://localhost:8080/"
        },
        "outputId": "0bd01646-a3f3-4fed-b1a1-49d7824b8359"
      },
      "execution_count": null,
      "outputs": [
        {
          "output_type": "execute_result",
          "data": {
            "text/plain": [
              "[0, 0, 0, 0, 0]"
            ]
          },
          "metadata": {},
          "execution_count": 11
        }
      ]
    },
    {
      "cell_type": "code",
      "source": [
        "arr = [10, 20, 30, 40]\n",
        "print(arr[0])  # Output: 10 (indeks pertama)\n",
        "print(arr[3])  # Output: 40 (indeks terakhir)"
      ],
      "metadata": {
        "colab": {
          "base_uri": "https://localhost:8080/"
        },
        "id": "GHWtWUHi_knC",
        "outputId": "91639942-5fcb-4e67-dfa2-902be20e83f4"
      },
      "execution_count": null,
      "outputs": [
        {
          "output_type": "stream",
          "name": "stdout",
          "text": [
            "10\n",
            "40\n"
          ]
        }
      ]
    },
    {
      "cell_type": "markdown",
      "source": [
        "**PEMROSESAN SEKUENSIAL ARRAY**"
      ],
      "metadata": {
        "id": "fQEuwUc3_mrE"
      }
    },
    {
      "cell_type": "code",
      "source": [
        "arr = [10, 20, 30, 40, 50]\n",
        "for elemen in arr:\n",
        "    print(elemen)\n"
      ],
      "metadata": {
        "colab": {
          "base_uri": "https://localhost:8080/"
        },
        "id": "7ZE8ZrrE_qmV",
        "outputId": "b5093213-3273-445d-ff08-3c3005558e96"
      },
      "execution_count": null,
      "outputs": [
        {
          "output_type": "stream",
          "name": "stdout",
          "text": [
            "10\n",
            "20\n",
            "30\n",
            "40\n",
            "50\n"
          ]
        }
      ]
    },
    {
      "cell_type": "code",
      "source": [
        "total = 0\n",
        "for elemen in arr:\n",
        "    total += elemen\n",
        "print(total)  # Output: 150\n"
      ],
      "metadata": {
        "colab": {
          "base_uri": "https://localhost:8080/"
        },
        "id": "sWK3Hdb9_tzN",
        "outputId": "293b7916-7953-489c-93b8-37a8a1172900"
      },
      "execution_count": null,
      "outputs": [
        {
          "output_type": "stream",
          "name": "stdout",
          "text": [
            "150\n"
          ]
        }
      ]
    },
    {
      "cell_type": "code",
      "source": [
        "arr = [30, 45, 10, 20, 12, 7, 19, 13, 17, 2, 10, 27, 5, 29]\n",
        "\n",
        "nilai_maks = max(arr)\n",
        "print(nilai_maks)\n",
        "print(\"jadi nilai maksimumnya adalah 45\")\n",
        "\n",
        "nilai_min = min(arr)\n",
        "print(nilai_min)\n",
        "print(\"jadi nilai minimumnya adalah 2\")\n",
        "\n",
        "penjumlahan = sum(arr)\n",
        "print(penjumlahan)\n",
        "print(\"total penjumlahan seluruh elemen adalah 246\")\n",
        "\n",
        "jumlah_arr = len(arr)\n",
        "print(jumlah_arr)\n",
        "print(\"jumlah seluruh elemen adalah 14\")\n",
        "\n",
        "rata_rata = sum(arr) / len(arr)\n",
        "print(rata_rata)\n",
        "print(\"jadi rata-rata seluruh elemen adalah 17.571428571428573\")"
      ],
      "metadata": {
        "colab": {
          "base_uri": "https://localhost:8080/"
        },
        "id": "UUYQs2FBROYa",
        "outputId": "c419a207-965e-465f-8df2-0fc044bddb19"
      },
      "execution_count": null,
      "outputs": [
        {
          "output_type": "stream",
          "name": "stdout",
          "text": [
            "45\n",
            "jadi nilai maksimumnya adalah 45\n",
            "2\n",
            "jadi nilai minimumnya adalah 2\n",
            "246\n",
            "total penjumlahan seluruh elemen adalah 246\n",
            "14\n",
            "jumlah seluruh elemen adalah 14\n",
            "17.571428571428573\n",
            "jadi rata-rata seluruh elemen adalah 17.571428571428573\n"
          ]
        }
      ]
    },
    {
      "cell_type": "code",
      "source": [
        "#SOAL1\n",
        "# Program IsiArray\n",
        "# Program untuk mengalikan elemen-elemen array dengan suatu integer\n",
        "# KAMUS\n",
        "# TabInt : array [0..6] of int\n",
        "# i : int\n",
        "# ALGORITMA\n",
        "# Mengisi array dengan 6 elemen integer\n",
        "S = [4, 1, -1, 10, 0, 12]\n",
        "# Menerima input integer dari pengguna\n",
        "D = int(input(\"Masukkan sebuah integer:\"))\n",
        "# Mengalikan elemen array S dengan D\n",
        "for i in range(0,6):\n",
        "    S[i] = (NumbInt[i]) * D\n",
        "# Mencetak isi array\n",
        "for i in range(0,6):\n",
        "    print(\"Array setelah dikalikan dengan\", D, \"adalah:\", S)"
      ],
      "metadata": {
        "id": "LUEh5uOAbR-N"
      },
      "execution_count": null,
      "outputs": []
    },
    {
      "cell_type": "code",
      "source": [
        "#SOAL2\n",
        "# Program untuk mencari nilai terbesar atau terkecil dari suatu array\n",
        " T1 = [9, 12, 30, -1, 0, 4, -1, 3, 30, 14]\n",
        " nilai_terbesar = max(T1)\n",
        " nilai_terkecil = min(T1)\n",
        " print(\"Nilai terbesar dari T1 adalah\", nilai_terbesar)\n",
        " print(\"Nilai terkecil dari T1 adalah\", nilai_terkecil)\n",
        "\n",
        "  T2 = [1, 3, 5, 8, -12, 90, 3, 5]\n",
        "  nilai_terbesar = max(T2)\n",
        "  nilai_terkecil = min(T2)\n",
        "  print(\"Nilai terbesar dari T1 adalah\", nilai_terbesar)\n",
        "  print(\"Nilai terkecil dari T1 adalah\", nilai_terkecil)"
      ],
      "metadata": {
        "id": "gJh7QnMobTay"
      },
      "execution_count": null,
      "outputs": []
    }
  ]
}